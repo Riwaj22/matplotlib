{
 "cells": [
  {
   "cell_type": "code",
   "execution_count": 80,
   "id": "2fb39277",
   "metadata": {},
   "outputs": [],
   "source": [
    "import numpy as np\n",
    "import pandas as pd\n",
    "from matplotlib import pyplot as plt"
   ]
  },
  {
   "cell_type": "code",
   "execution_count": 84,
   "id": "e5a5dae5",
   "metadata": {},
   "outputs": [],
   "source": [
    "tech_url = 'https://andybek.com/pandas-marathon'"
   ]
  },
  {
   "cell_type": "code",
   "execution_count": 85,
   "id": "7bd7c57a",
   "metadata": {},
   "outputs": [],
   "source": [
    "tech = pd.read_csv(tech_url)"
   ]
  },
  {
   "cell_type": "code",
   "execution_count": 86,
   "id": "48fcec45",
   "metadata": {},
   "outputs": [
    {
     "data": {
      "text/html": [
       "<div>\n",
       "<style scoped>\n",
       "    .dataframe tbody tr th:only-of-type {\n",
       "        vertical-align: middle;\n",
       "    }\n",
       "\n",
       "    .dataframe tbody tr th {\n",
       "        vertical-align: top;\n",
       "    }\n",
       "\n",
       "    .dataframe thead th {\n",
       "        text-align: right;\n",
       "    }\n",
       "</style>\n",
       "<table border=\"1\" class=\"dataframe\">\n",
       "  <thead>\n",
       "    <tr style=\"text-align: right;\">\n",
       "      <th></th>\n",
       "      <th>Name</th>\n",
       "      <th>Age</th>\n",
       "      <th>M/F</th>\n",
       "      <th>City</th>\n",
       "      <th>State</th>\n",
       "      <th>Country</th>\n",
       "      <th>Official Time</th>\n",
       "      <th>Overall</th>\n",
       "      <th>Gender</th>\n",
       "      <th>Years Ran</th>\n",
       "    </tr>\n",
       "  </thead>\n",
       "  <tbody>\n",
       "    <tr>\n",
       "      <th>0</th>\n",
       "      <td>Kirui, Geoffrey</td>\n",
       "      <td>24</td>\n",
       "      <td>M</td>\n",
       "      <td>Keringet</td>\n",
       "      <td>NaN</td>\n",
       "      <td>KEN</td>\n",
       "      <td>2:09:37</td>\n",
       "      <td>1</td>\n",
       "      <td>1</td>\n",
       "      <td>NaN</td>\n",
       "    </tr>\n",
       "    <tr>\n",
       "      <th>1</th>\n",
       "      <td>Rupp, Galen</td>\n",
       "      <td>30</td>\n",
       "      <td>M</td>\n",
       "      <td>Portland</td>\n",
       "      <td>OR</td>\n",
       "      <td>USA</td>\n",
       "      <td>2:09:58</td>\n",
       "      <td>2</td>\n",
       "      <td>2</td>\n",
       "      <td>NaN</td>\n",
       "    </tr>\n",
       "    <tr>\n",
       "      <th>2</th>\n",
       "      <td>Osako, Suguru</td>\n",
       "      <td>25</td>\n",
       "      <td>M</td>\n",
       "      <td>Machida-City</td>\n",
       "      <td>NaN</td>\n",
       "      <td>JPN</td>\n",
       "      <td>2:10:28</td>\n",
       "      <td>3</td>\n",
       "      <td>3</td>\n",
       "      <td>NaN</td>\n",
       "    </tr>\n",
       "    <tr>\n",
       "      <th>3</th>\n",
       "      <td>Biwott, Shadrack</td>\n",
       "      <td>32</td>\n",
       "      <td>M</td>\n",
       "      <td>Mammoth Lakes</td>\n",
       "      <td>CA</td>\n",
       "      <td>USA</td>\n",
       "      <td>2:12:08</td>\n",
       "      <td>4</td>\n",
       "      <td>4</td>\n",
       "      <td>NaN</td>\n",
       "    </tr>\n",
       "    <tr>\n",
       "      <th>4</th>\n",
       "      <td>Chebet, Wilson</td>\n",
       "      <td>31</td>\n",
       "      <td>M</td>\n",
       "      <td>Marakwet</td>\n",
       "      <td>NaN</td>\n",
       "      <td>KEN</td>\n",
       "      <td>2:12:35</td>\n",
       "      <td>5</td>\n",
       "      <td>5</td>\n",
       "      <td>2015</td>\n",
       "    </tr>\n",
       "    <tr>\n",
       "      <th>...</th>\n",
       "      <td>...</td>\n",
       "      <td>...</td>\n",
       "      <td>...</td>\n",
       "      <td>...</td>\n",
       "      <td>...</td>\n",
       "      <td>...</td>\n",
       "      <td>...</td>\n",
       "      <td>...</td>\n",
       "      <td>...</td>\n",
       "      <td>...</td>\n",
       "    </tr>\n",
       "    <tr>\n",
       "      <th>995</th>\n",
       "      <td>Larosa, Mark</td>\n",
       "      <td>38</td>\n",
       "      <td>M</td>\n",
       "      <td>North Andover</td>\n",
       "      <td>MA</td>\n",
       "      <td>USA</td>\n",
       "      <td>2:56:06</td>\n",
       "      <td>996</td>\n",
       "      <td>940</td>\n",
       "      <td>2015:2016</td>\n",
       "    </tr>\n",
       "    <tr>\n",
       "      <th>996</th>\n",
       "      <td>Williamson, Jerry A</td>\n",
       "      <td>43</td>\n",
       "      <td>M</td>\n",
       "      <td>Raleigh</td>\n",
       "      <td>NC</td>\n",
       "      <td>USA</td>\n",
       "      <td>2:56:06</td>\n",
       "      <td>997</td>\n",
       "      <td>941</td>\n",
       "      <td>2015</td>\n",
       "    </tr>\n",
       "    <tr>\n",
       "      <th>997</th>\n",
       "      <td>Mccue, Daniel T</td>\n",
       "      <td>40</td>\n",
       "      <td>M</td>\n",
       "      <td>Arlington</td>\n",
       "      <td>MA</td>\n",
       "      <td>USA</td>\n",
       "      <td>2:56:06</td>\n",
       "      <td>998</td>\n",
       "      <td>942</td>\n",
       "      <td>NaN</td>\n",
       "    </tr>\n",
       "    <tr>\n",
       "      <th>998</th>\n",
       "      <td>Larosa, John</td>\n",
       "      <td>35</td>\n",
       "      <td>M</td>\n",
       "      <td>Danbury</td>\n",
       "      <td>CT</td>\n",
       "      <td>USA</td>\n",
       "      <td>2:56:07</td>\n",
       "      <td>999</td>\n",
       "      <td>943</td>\n",
       "      <td>NaN</td>\n",
       "    </tr>\n",
       "    <tr>\n",
       "      <th>999</th>\n",
       "      <td>Sanchez, Sam R</td>\n",
       "      <td>35</td>\n",
       "      <td>M</td>\n",
       "      <td>Santa Fe</td>\n",
       "      <td>NM</td>\n",
       "      <td>USA</td>\n",
       "      <td>2:56:08</td>\n",
       "      <td>1000</td>\n",
       "      <td>944</td>\n",
       "      <td>NaN</td>\n",
       "    </tr>\n",
       "  </tbody>\n",
       "</table>\n",
       "<p>1000 rows × 10 columns</p>\n",
       "</div>"
      ],
      "text/plain": [
       "                    Name  Age M/F           City State Country Official Time  \\\n",
       "0       Kirui, Geoffrey    24   M       Keringet   NaN     KEN       2:09:37   \n",
       "1         Rupp, Galen      30   M       Portland    OR     USA       2:09:58   \n",
       "2        Osako, Suguru     25   M   Machida-City   NaN     JPN       2:10:28   \n",
       "3       Biwott, Shadrack   32   M  Mammoth Lakes    CA     USA       2:12:08   \n",
       "4         Chebet, Wilson   31   M       Marakwet   NaN     KEN       2:12:35   \n",
       "..                   ...  ...  ..            ...   ...     ...           ...   \n",
       "995         Larosa, Mark   38   M  North Andover    MA     USA       2:56:06   \n",
       "996  Williamson, Jerry A   43   M        Raleigh    NC     USA       2:56:06   \n",
       "997      Mccue, Daniel T   40   M      Arlington    MA     USA       2:56:06   \n",
       "998         Larosa, John   35   M        Danbury    CT     USA       2:56:07   \n",
       "999       Sanchez, Sam R   35   M       Santa Fe    NM     USA       2:56:08   \n",
       "\n",
       "     Overall  Gender  Years Ran  \n",
       "0          1       1        NaN  \n",
       "1          2       2        NaN  \n",
       "2          3       3        NaN  \n",
       "3          4       4        NaN  \n",
       "4          5       5       2015  \n",
       "..       ...     ...        ...  \n",
       "995      996     940  2015:2016  \n",
       "996      997     941       2015  \n",
       "997      998     942        NaN  \n",
       "998      999     943        NaN  \n",
       "999     1000     944        NaN  \n",
       "\n",
       "[1000 rows x 10 columns]"
      ]
     },
     "execution_count": 86,
     "metadata": {},
     "output_type": "execute_result"
    }
   ],
   "source": [
    "tech"
   ]
  },
  {
   "cell_type": "code",
   "execution_count": 99,
   "id": "2bdb5e49",
   "metadata": {},
   "outputs": [],
   "source": [
    "a  = tech.Country.value_counts().nlargest(n=10)"
   ]
  },
  {
   "cell_type": "code",
   "execution_count": 104,
   "id": "71f7a1a6",
   "metadata": {},
   "outputs": [
    {
     "data": {
      "text/plain": [
       "USA    744\n",
       "CAN     63\n",
       "GBR     30\n",
       "BRA     12\n",
       "FRA     11\n",
       "JPN     10\n",
       "MEX     10\n",
       "COL      9\n",
       "SUI      8\n",
       "GER      8\n",
       "Name: Country, dtype: int64"
      ]
     },
     "execution_count": 104,
     "metadata": {},
     "output_type": "execute_result"
    }
   ],
   "source": [
    "\n"
   ]
  },
  {
   "cell_type": "code",
   "execution_count": 107,
   "id": "d52ddf82",
   "metadata": {},
   "outputs": [],
   "source": [
    "country_name = a.index"
   ]
  },
  {
   "cell_type": "code",
   "execution_count": 108,
   "id": "1be14adf",
   "metadata": {},
   "outputs": [
    {
     "data": {
      "text/plain": [
       "Index(['USA', 'CAN', 'GBR', 'BRA', 'FRA', 'JPN', 'MEX', 'COL', 'SUI', 'GER'], dtype='object')"
      ]
     },
     "execution_count": 108,
     "metadata": {},
     "output_type": "execute_result"
    }
   ],
   "source": [
    "country_name"
   ]
  },
  {
   "cell_type": "code",
   "execution_count": 111,
   "id": "064c12a5",
   "metadata": {},
   "outputs": [],
   "source": [
    "number_of_participants = a.values\n"
   ]
  },
  {
   "cell_type": "code",
   "execution_count": 112,
   "id": "57f92132",
   "metadata": {},
   "outputs": [
    {
     "data": {
      "text/plain": [
       "array([744,  63,  30,  12,  11,  10,  10,   9,   8,   8], dtype=int64)"
      ]
     },
     "execution_count": 112,
     "metadata": {},
     "output_type": "execute_result"
    }
   ],
   "source": [
    "number_of_participants"
   ]
  },
  {
   "cell_type": "code",
   "execution_count": 113,
   "id": "09c72863",
   "metadata": {},
   "outputs": [],
   "source": [
    "labels = country_name"
   ]
  },
  {
   "cell_type": "code",
   "execution_count": 117,
   "id": "dd479ef1",
   "metadata": {},
   "outputs": [
    {
     "data": {
      "text/plain": [
       "Text(0.5, 1.0, 'Runner Distribution among Countries')"
      ]
     },
     "execution_count": 117,
     "metadata": {},
     "output_type": "execute_result"
    },
    {
     "data": {
      "image/png": "[encoded data removed]",
      "text/plain": [
       "<Figure size 720x720 with 1 Axes>"
      ]
     },
     "metadata": {},
     "output_type": "display_data"
    }
   ],
   "source": [
    "plt.figure(figsize=(10,10))\n",
    "\n",
    "plt.pie(number_of_participants, labels=labels,\n",
    "        autopct='%.1f%%'\n",
    "       )\n",
    "plt.legend()\n",
    "plt.title('Runner Distribution among Countries')"
   ]
  },
  {
   "cell_type": "code",
   "execution_count": null,
   "id": "997eb0a2",
   "metadata": {},
   "outputs": [],
   "source": []
  }
 ],
 "metadata": {
  "kernelspec": {
   "display_name": "Python 3 (ipykernel)",
   "language": "python",
   "name": "python3"
  },
  "language_info": {
   "codemirror_mode": {
    "name": "ipython",
    "version": 3
   },
   "file_extension": ".py",
   "mimetype": "text/x-python",
   "name": "python",
   "nbconvert_exporter": "python",
   "pygments_lexer": "ipython3",
   "version": "3.9.12"
  }
 },
 "nbformat": 4,
 "nbformat_minor": 5
}
