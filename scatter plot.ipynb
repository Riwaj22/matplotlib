{
 "cells": [
  {
   "cell_type": "code",
   "execution_count": 80,
   "id": "7c9575ed",
   "metadata": {},
   "outputs": [],
   "source": [
    "import numpy as np\n",
    "import pandas as pd\n",
    "from matplotlib import pyplot as plt"
   ]
  },
  {
   "cell_type": "code",
   "execution_count": 147,
   "id": "8a61b958",
   "metadata": {},
   "outputs": [],
   "source": [
    "sat = pd.read_csv('https://andybek.com/pandas-sat')"
   ]
  },
  {
   "cell_type": "code",
   "execution_count": 154,
   "id": "35a6919c",
   "metadata": {},
   "outputs": [],
   "source": [
    "math_score = sat[sat['SAT Section'] == 'Math'].Score"
   ]
  },
  {
   "cell_type": "code",
   "execution_count": 162,
   "id": "fdead8da",
   "metadata": {},
   "outputs": [],
   "source": [
    "math_score = math_score.reset_index(drop=True)"
   ]
  },
  {
   "cell_type": "code",
   "execution_count": 157,
   "id": "cb63bd18",
   "metadata": {},
   "outputs": [],
   "source": [
    "reading = sat[sat['SAT Section'] == 'Reading'].Score"
   ]
  },
  {
   "cell_type": "code",
   "execution_count": 163,
   "id": "df17a1a8",
   "metadata": {},
   "outputs": [],
   "source": [
    "reading = reading.reset_index(drop=True)"
   ]
  },
  {
   "cell_type": "code",
   "execution_count": 159,
   "id": "befe02f7",
   "metadata": {},
   "outputs": [],
   "source": [
    "writing = sat[sat['SAT Section'] == 'Writing'].Score"
   ]
  },
  {
   "cell_type": "code",
   "execution_count": 164,
   "id": "1e92e9ea",
   "metadata": {},
   "outputs": [],
   "source": [
    "writing =  writing.reset_index(drop=True)"
   ]
  },
  {
   "cell_type": "code",
   "execution_count": 165,
   "id": "d28b5f2c",
   "metadata": {},
   "outputs": [
    {
     "data": {
      "text/plain": [
       "0      459\n",
       "1      441\n",
       "2      444\n",
       "3      386\n",
       "4      381\n",
       "      ... \n",
       "370    484\n",
       "371    496\n",
       "372    478\n",
       "373    483\n",
       "374    415\n",
       "Name: Score, Length: 375, dtype: int64"
      ]
     },
     "execution_count": 165,
     "metadata": {},
     "output_type": "execute_result"
    }
   ],
   "source": [
    "math_score"
   ]
  },
  {
   "cell_type": "code",
   "execution_count": 166,
   "id": "1ecc3ec7",
   "metadata": {},
   "outputs": [
    {
     "data": {
      "text/plain": [
       "0      453\n",
       "1      422\n",
       "2      458\n",
       "3      397\n",
       "4      397\n",
       "      ... \n",
       "370    491\n",
       "371    481\n",
       "372    465\n",
       "373    464\n",
       "374    420\n",
       "Name: Score, Length: 375, dtype: int64"
      ]
     },
     "execution_count": 166,
     "metadata": {},
     "output_type": "execute_result"
    }
   ],
   "source": [
    "reading"
   ]
  },
  {
   "cell_type": "code",
   "execution_count": 167,
   "id": "12d380ab",
   "metadata": {},
   "outputs": [
    {
     "data": {
      "text/plain": [
       "0      447\n",
       "1      422\n",
       "2      444\n",
       "3      393\n",
       "4      390\n",
       "      ... \n",
       "370    487\n",
       "371    473\n",
       "372    472\n",
       "373    477\n",
       "374    433\n",
       "Name: Score, Length: 375, dtype: int64"
      ]
     },
     "execution_count": 167,
     "metadata": {},
     "output_type": "execute_result"
    }
   ],
   "source": [
    "writing"
   ]
  },
  {
   "cell_type": "code",
   "execution_count": 178,
   "id": "a1c35974",
   "metadata": {},
   "outputs": [
    {
     "data": {
      "image/png": "[encoded data removed]",
      "text/plain": [
       "<Figure size 432x288 with 1 Axes>"
      ]
     },
     "metadata": {
      "needs_background": "light"
     },
     "output_type": "display_data"
    }
   ],
   "source": [
    "plt.scatter(math_score, reading,  color='blue', label='reading')\n",
    "plt.scatter(math_score, writing, color= 'red', label='writing')\n",
    "plt.xlabel('Math Score')\n",
    "plt.legend()\n",
    "plt.show()"
   ]
  },
  {
   "cell_type": "code",
   "execution_count": 179,
   "id": "3d2347ee",
   "metadata": {},
   "outputs": [
    {
     "data": {
      "text/plain": [
       "0.9282390476055351"
      ]
     },
     "execution_count": 179,
     "metadata": {},
     "output_type": "execute_result"
    }
   ],
   "source": [
    "math_score.corr(reading)"
   ]
  },
  {
   "cell_type": "code",
   "execution_count": 180,
   "id": "7be92925",
   "metadata": {},
   "outputs": [
    {
     "data": {
      "text/plain": [
       "0.9341552744743178"
      ]
     },
     "execution_count": 180,
     "metadata": {},
     "output_type": "execute_result"
    }
   ],
   "source": [
    "math_score.corr(writing)"
   ]
  },
  {
   "cell_type": "code",
   "execution_count": 187,
   "id": "1e2fe9ce",
   "metadata": {},
   "outputs": [],
   "source": [
    "data = pd.concat([math_score,reading, writing], axis=1)"
   ]
  },
  {
   "cell_type": "code",
   "execution_count": 192,
   "id": "fcdd22da",
   "metadata": {},
   "outputs": [],
   "source": [
    "data.columns = ['Math', 'Reading', 'Writing']\n",
    "                "
   ]
  },
  {
   "cell_type": "code",
   "execution_count": 193,
   "id": "c37e059d",
   "metadata": {},
   "outputs": [
    {
     "ename": "NameError",
     "evalue": "name 'corr' is not defined",
     "output_type": "error",
     "traceback": [
      "\u001b[1;31m---------------------------------------------------------------------------\u001b[0m",
      "\u001b[1;31mNameError\u001b[0m                                 Traceback (most recent call last)",
      "Input \u001b[1;32mIn [193]\u001b[0m, in \u001b[0;36m<cell line: 1>\u001b[1;34m()\u001b[0m\n\u001b[1;32m----> 1\u001b[0m \u001b[43mcorr\u001b[49m(data)\n",
      "\u001b[1;31mNameError\u001b[0m: name 'corr' is not defined"
     ]
    }
   ],
   "source": [
    "corr(data)"
   ]
  },
  {
   "cell_type": "code",
   "execution_count": 194,
   "id": "f26cd06e",
   "metadata": {},
   "outputs": [
    {
     "data": {
      "text/html": [
       "<div>\n",
       "<style scoped>\n",
       "    .dataframe tbody tr th:only-of-type {\n",
       "        vertical-align: middle;\n",
       "    }\n",
       "\n",
       "    .dataframe tbody tr th {\n",
       "        vertical-align: top;\n",
       "    }\n",
       "\n",
       "    .dataframe thead th {\n",
       "        text-align: right;\n",
       "    }\n",
       "</style>\n",
       "<table border=\"1\" class=\"dataframe\">\n",
       "  <thead>\n",
       "    <tr style=\"text-align: right;\">\n",
       "      <th></th>\n",
       "      <th>Math</th>\n",
       "      <th>Reading</th>\n",
       "      <th>Writing</th>\n",
       "    </tr>\n",
       "  </thead>\n",
       "  <tbody>\n",
       "    <tr>\n",
       "      <th>Math</th>\n",
       "      <td>1.000000</td>\n",
       "      <td>0.928239</td>\n",
       "      <td>0.934155</td>\n",
       "    </tr>\n",
       "    <tr>\n",
       "      <th>Reading</th>\n",
       "      <td>0.928239</td>\n",
       "      <td>1.000000</td>\n",
       "      <td>0.985439</td>\n",
       "    </tr>\n",
       "    <tr>\n",
       "      <th>Writing</th>\n",
       "      <td>0.934155</td>\n",
       "      <td>0.985439</td>\n",
       "      <td>1.000000</td>\n",
       "    </tr>\n",
       "  </tbody>\n",
       "</table>\n",
       "</div>"
      ],
      "text/plain": [
       "             Math   Reading   Writing\n",
       "Math     1.000000  0.928239  0.934155\n",
       "Reading  0.928239  1.000000  0.985439\n",
       "Writing  0.934155  0.985439  1.000000"
      ]
     },
     "execution_count": 194,
     "metadata": {},
     "output_type": "execute_result"
    }
   ],
   "source": [
    "data.corr()"
   ]
  },
  {
   "cell_type": "code",
   "execution_count": 195,
   "id": "1cb32114",
   "metadata": {},
   "outputs": [
    {
     "name": "stderr",
     "output_type": "stream",
     "text": [
      "C:\\Users\\97798\\anaconda3\\lib\\site-packages\\scipy\\__init__.py:146: UserWarning: A NumPy version >=1.16.5 and <1.23.0 is required for this version of SciPy (detected version 1.24.3\n",
      "  warnings.warn(f\"A NumPy version >={np_minversion} and <{np_maxversion}\"\n"
     ]
    }
   ],
   "source": [
    "import seaborn as sns"
   ]
  },
  {
   "cell_type": "code",
   "execution_count": 196,
   "id": "6e0ef4f5",
   "metadata": {},
   "outputs": [
    {
     "data": {
      "text/plain": [
       "<AxesSubplot:>"
      ]
     },
     "execution_count": 196,
     "metadata": {},
     "output_type": "execute_result"
    },
    {
     "data": {
      "image/png": "[encoded data removed]",
      "text/plain": [
       "<Figure size 432x288 with 2 Axes>"
      ]
     },
     "metadata": {
      "needs_background": "light"
     },
     "output_type": "display_data"
    }
   ],
   "source": [
    "sns.heatmap(data.corr(), annot=True)"
   ]
  },
  {
   "cell_type": "code",
   "execution_count": null,
   "id": "faeeea55",
   "metadata": {},
   "outputs": [],
   "source": []
  }
 ],
 "metadata": {
  "kernelspec": {
   "display_name": "Python 3 (ipykernel)",
   "language": "python",
   "name": "python3"
  },
  "language_info": {
   "codemirror_mode": {
    "name": "ipython",
    "version": 3
   },
   "file_extension": ".py",
   "mimetype": "text/x-python",
   "name": "python",
   "nbconvert_exporter": "python",
   "pygments_lexer": "ipython3",
   "version": "3.9.12"
  }
 },
 "nbformat": 4,
 "nbformat_minor": 5
}
